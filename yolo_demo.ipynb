{
 "cells": [
  {
   "cell_type": "code",
   "id": "e7d2df4283a97128",
   "metadata": {
    "ExecuteTime": {
     "end_time": "2024-05-12T10:21:08.416440Z",
     "start_time": "2024-05-12T10:21:07.991858Z"
    }
   },
   "source": [
    "import cv2\n",
    "import matplotlib.pyplot as plt\n",
    "\n",
    "\n",
    "image_path = \"camera_frame.png\"\n",
    "frame = cv2.imread(image_path)\n",
    "plt.imshow(frame)"
   ],
   "execution_count": 2,
   "outputs": []
  },
  {
   "cell_type": "code",
   "id": "ffca9d76365dd52e",
   "metadata": {
    "ExecuteTime": {
     "end_time": "2024-05-12T10:31:23.241538Z",
     "start_time": "2024-05-12T10:31:19.951843Z"
    }
   },
   "source": [
    "from ultralytics import YOLO\n",
    "\n",
    "\n",
    "model = YOLO(\"yolov8n-visdrone.pt\")\n",
    "\n",
    "result = model.predict(\n",
    "    source=frame,\n",
    "    imgsz=frame.shape[:2],\n",
    "    classes=None,\n",
    "    conf=0.1,\n",
    "    iou=0.5,\n",
    "    max_det=10,\n",
    "    augment=False,\n",
    "    agnostic_nms=True,\n",
    "    device=\"cpu\",\n",
    "    half=False\n",
    ")[0]\n",
    "\n",
    "result.save(\"yolo_visdrone.png\")\n",
    "\n",
    "plt.imshow(result.plot())"
   ],
   "execution_count": 14,
   "outputs": []
  },
  {
   "cell_type": "code",
   "id": "94fe2391827b3e77",
   "metadata": {
    "ExecuteTime": {
     "end_time": "2024-05-10T13:36:24.218888Z",
     "start_time": "2024-05-10T13:36:24.143307Z"
    }
   },
   "source": [
    "import pandas\n",
    "\n",
    "\n",
    "dataframe = pandas.DataFrame(columns=[\"x1\", \"y1\", \"x2\", \"y2\", \"score\", \"class\"])\n",
    "\n",
    "\n",
    "boxes = result.boxes\n",
    "detection_number = boxes.shape[0]\n",
    "for i in range(detection_number):\n",
    "    class_id = boxes.cls[i].int().item()\n",
    "    confidence = boxes.conf[i].float().item()\n",
    "    xyxy = boxes.xyxy[i].int().tolist() \n",
    "    \n",
    "    record = xyxy + [confidence, class_id]\n",
    "    \n",
    "    dataframe.loc[i] = record\n",
    "\n",
    "\n",
    "dataframe"
   ],
   "execution_count": 3,
   "outputs": []
  },
  {
   "cell_type": "code",
   "id": "621f831ccef3d95e",
   "metadata": {
    "ExecuteTime": {
     "end_time": "2024-05-10T13:36:57.203404Z",
     "start_time": "2024-05-10T13:36:57.170423Z"
    }
   },
   "source": [
    "import pandas\n",
    "\n",
    "metrics_dataframe = pandas.read_csv(\"metrics_dataframe_cuda.csv\")\n",
    "\n",
    "metrics_dataframe"
   ],
   "execution_count": 5,
   "outputs": []
  },
  {
   "cell_type": "code",
   "id": "fbaeab8e66b9252a",
   "metadata": {
    "ExecuteTime": {
     "end_time": "2024-05-10T13:36:59.213133Z",
     "start_time": "2024-05-10T13:36:58.975094Z"
    }
   },
   "source": [
    "import matplotlib.pyplot as plt\n",
    "\n",
    "\n",
    "plt.figure(figsize=(10, 6))\n",
    "plt.plot(metrics_dataframe[\"Parameters\"], metrics_dataframe[\"mAP\"], marker=\"o\", color=\"blue\", linestyle=\"-\")\n",
    "\n",
    "offset = 0.0035\n",
    "for i, point in metrics_dataframe.iterrows():\n",
    "    plt.text(\n",
    "        point[\"Parameters\"] + offset, point[\"mAP\"] + offset, \n",
    "        point[\"Model\"].split(\"-\")[0],\n",
    "        fontsize=11,\n",
    "        ha=\"left\",\n",
    "        va=\"bottom\",\n",
    "        bbox=dict(facecolor=\"white\", alpha=0.6, edgecolor=\"black\", boxstyle=\"round, pad=0.5\")\n",
    "    )\n",
    "\n",
    "plt.title(\"mAP vs Parameters\")\n",
    "plt.xlabel(\"Parameters\")\n",
    "plt.ylabel(\"mAP\")\n",
    "plt.grid(True)\n",
    "plt.show()"
   ],
   "execution_count": 6,
   "outputs": []
  },
  {
   "cell_type": "code",
   "id": "880de260f53384c5",
   "metadata": {
    "ExecuteTime": {
     "end_time": "2024-05-10T13:37:00.612457Z",
     "start_time": "2024-05-10T13:37:00.371285Z"
    }
   },
   "source": [
    "import matplotlib.pyplot as plt\n",
    "\n",
    "\n",
    "plt.figure(figsize=(10, 6))\n",
    "plt.plot(metrics_dataframe[\"Inference Speed\"], metrics_dataframe[\"mAP\"], marker=\"o\", color=\"blue\", linestyle=\"-\")\n",
    "\n",
    "offset = 0.0035\n",
    "for i, point in metrics_dataframe.iterrows():\n",
    "    plt.text(\n",
    "        point[\"Inference Speed\"] + offset, point[\"mAP\"] + offset, \n",
    "        point[\"Model\"].split(\"-\")[0],\n",
    "        fontsize=11,\n",
    "        ha=\"left\",\n",
    "        va=\"bottom\",\n",
    "        bbox=dict(facecolor=\"white\", alpha=0.6, edgecolor=\"black\", boxstyle=\"round, pad=0.5\")\n",
    "    )\n",
    "\n",
    "plt.title(\"mAP vs Inference Speed\")\n",
    "plt.xlabel(\"Inference Speed\")\n",
    "plt.ylabel(\"mAP\")\n",
    "plt.grid(True)\n",
    "plt.show()"
   ],
   "execution_count": 7,
   "outputs": []
  },
  {
   "cell_type": "code",
   "execution_count": null,
   "id": "fe62bd64b4f9fb1d",
   "metadata": {},
   "source": [
    "from simulation.webots.controllers.ardupilot_vehicle_controller.drone_data import DroneData\n",
    "from data_stream import StreamReceiver\n",
    "import cv2\n",
    "\n",
    "host = \"192.168.0.107\"\n",
    "port = 5588\n",
    "stream_receiver = StreamReceiver(host, port)\n",
    "\n",
    "\n",
    "fourcc = cv2.VideoWriter_fourcc(*'XVID')\n",
    "out = cv2.VideoWriter(\"result.avi\", fourcc, 30, (640, 480))\n",
    "\n",
    "for _ in range(30 * 1):\n",
    "    data = stream_receiver.get_data()\n",
    "    drone_data = DroneData.from_json(data)\n",
    "    camera_frame = drone_data.camera.frame\n",
    "    \n",
    "    result = model.predict(\n",
    "        source=camera_frame,\n",
    "        imgsz=camera_frame.shape[:2],\n",
    "        classes=None,\n",
    "        conf=0.1,\n",
    "        iou=0.5,\n",
    "        max_det=10,\n",
    "        augment=False,\n",
    "        agnostic_nms=True,\n",
    "        device=\"cpu\",\n",
    "        half=False\n",
    "    )[0]\n",
    "\n",
    "    detections = []\n",
    "    boxes = result.boxes\n",
    "    for i in range(boxes.shape[0]):\n",
    "        class_id = boxes.cls[i].int().item()\n",
    "        confidence = boxes.conf[i].float().item()\n",
    "        xyxy = boxes.xyxy[i].int().tolist()\n",
    "\n",
    "        record = xyxy + [confidence, class_id]\n",
    "\n",
    "        detections.append(record)\n",
    "\n",
    "    plot = result.plot()\n",
    "    out.write(plot)\n",
    "\n",
    "out.release()    \n"
   ],
   "outputs": []
  },
  {
   "metadata": {},
   "cell_type": "code",
   "execution_count": null,
   "source": "",
   "id": "7abf7a86014f389f",
   "outputs": []
  }
 ],
 "metadata": {
  "kernelspec": {
   "display_name": "Python 3 (ipykernel)",
   "language": "python",
   "name": "python3"
  },
  "language_info": {
   "codemirror_mode": {
    "name": "ipython",
    "version": 3
   },
   "file_extension": ".py",
   "mimetype": "text/x-python",
   "name": "python",
   "nbconvert_exporter": "python",
   "pygments_lexer": "ipython3",
   "version": "3.11.2"
  }
 },
 "nbformat": 4,
 "nbformat_minor": 5
}
