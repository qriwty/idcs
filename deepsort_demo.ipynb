{
 "cells": [
  {
   "cell_type": "code",
   "id": "initial_id",
   "metadata": {
    "collapsed": true,
    "ExecuteTime": {
     "end_time": "2024-05-17T16:47:03.030933Z",
     "start_time": "2024-05-17T16:47:00.689813Z"
    }
   },
   "source": [
    "import matplotlib.pyplot as plt\n",
    "\n",
    "from simulation.webots.controllers.ardupilot_vehicle_controller.drone_data import DroneData\n",
    "from mavlink.mavlink.data import Attitude, GlobalPosition, Quaternion, Gimbal\n",
    "%matplotlib qt6\n",
    "\n",
    "def get_objects(data):\n",
    "    quaternion = Quaternion(data['gimbal']['quaternion'])\n",
    "    \n",
    "    gimbal = Gimbal(\n",
    "        timestamp=data['gimbal']['timestamp'],\n",
    "        flags=data['gimbal']['flags'],\n",
    "        quaternion=quaternion\n",
    "    )\n",
    "    \n",
    "    global_position = GlobalPosition(\n",
    "        timestamp=data['global_position']['timestamp'],\n",
    "        latitude=data['global_position']['latitude'],\n",
    "        longitude=data['global_position']['longitude'],\n",
    "        altitude=data['global_position']['altitude'],\n",
    "        relative_altitude=data['global_position']['relative_altitude'],\n",
    "        vx=data['global_position']['vx'],\n",
    "        vy=data['global_position']['vy'],\n",
    "        vz=data['global_position']['vz'],\n",
    "        heading=data['global_position']['heading']\n",
    "    )\n",
    "\n",
    "    attitude = Attitude(\n",
    "        timestamp=data['attitude']['timestamp'],\n",
    "        roll=data['attitude']['roll'],\n",
    "        pitch=data['attitude']['pitch'],\n",
    "        yaw=data['attitude']['yaw'],\n",
    "        roll_speed=data['attitude']['roll_speed'],\n",
    "        pitch_speed=data['attitude']['pitch_speed'],\n",
    "        yaw_speed=data['attitude']['yaw_speed']\n",
    "    )\n",
    "\n",
    "    all_objects = {\n",
    "        \"gimbal\": gimbal,\n",
    "        \"global_position\": global_position,\n",
    "        \"attitude\": attitude,\n",
    "        \"webots\": DroneData.from_json(data['webots_data'])\n",
    "    }\n",
    "    \n",
    "    return all_objects"
   ],
   "outputs": [],
   "execution_count": 1
  },
  {
   "metadata": {
    "ExecuteTime": {
     "end_time": "2024-05-17T16:47:23.448051Z",
     "start_time": "2024-05-17T16:47:03.030933Z"
    }
   },
   "cell_type": "code",
   "source": [
    "import json\n",
    "\n",
    "file_name = \"data.json\"\n",
    "\n",
    "with open(file_name, \"r\") as file:\n",
    "    data = json.load(file)"
   ],
   "id": "be9b5822824f3728",
   "outputs": [],
   "execution_count": 2
  },
  {
   "metadata": {
    "ExecuteTime": {
     "end_time": "2024-05-17T16:47:29.887309Z",
     "start_time": "2024-05-17T16:47:23.448051Z"
    }
   },
   "cell_type": "code",
   "source": [
    "from ultralytics import YOLO\n",
    "\n",
    "\n",
    "model = YOLO(\"yolov8n-visdrone.pt\", verbose=False)"
   ],
   "id": "5c07fe86f8ad7438",
   "outputs": [],
   "execution_count": 3
  },
  {
   "metadata": {
    "ExecuteTime": {
     "end_time": "2024-05-17T16:48:17.911072Z",
     "start_time": "2024-05-17T16:48:16.396255Z"
    }
   },
   "cell_type": "code",
   "source": [
    "import random\n",
    "from deep_sort.deep_sort.tracker import Tracker\n",
    "from deep_sort.deep_sort.deep.extractor import Extractor\n",
    "from deep_sort.deep_sort.deep.weights import RESNET18_WEIGHTS\n",
    "from deep_sort.deep_sort.deep.configuration import ResNetConfiguration\n",
    "\n",
    "resnet = ResNetConfiguration(\n",
    "    base=\"resnet18\",\n",
    "    weights_path=RESNET18_WEIGHTS,\n",
    "    use_cuda=False\n",
    ")\n",
    "extractor = Extractor(model=resnet, batch_size=4)\n",
    "\n",
    "tracker = Tracker(\n",
    "    feature_extractor=extractor\n",
    ")\n",
    "\n",
    "colors = [(\n",
    "    random.randint(0, 255),\n",
    "    random.randint(0, 255),\n",
    "    random.randint(0, 255)) for j in range(10)\n",
    "]"
   ],
   "id": "68513903d6077a38",
   "outputs": [],
   "execution_count": 21
  },
  {
   "metadata": {
    "ExecuteTime": {
     "end_time": "2024-05-17T16:47:38.171659Z",
     "start_time": "2024-05-17T16:47:33.449448Z"
    }
   },
   "cell_type": "code",
   "source": [
    "import pandas\n",
    "\n",
    "dataframe = pandas.read_csv(\"detections.csv\")\n",
    "\n",
    "detections_by_frame = {}\n",
    "\n",
    "grouped = dataframe.groupby(\"frame\")\n",
    "\n",
    "for frame_number, group in grouped:\n",
    "    detections = [\n",
    "        [int(x1), int(y1), int(x2), int(y2), score, int(cls)]\n",
    "        for x1, y1, x2, y2, score, cls in group[['x1', 'y1', 'x2', 'y2', 'score', 'class']].values\n",
    "    ]\n",
    "    detections_by_frame[str(frame_number)] = detections"
   ],
   "id": "6813110f11b485e3",
   "outputs": [],
   "execution_count": 5
  },
  {
   "metadata": {
    "ExecuteTime": {
     "end_time": "2024-05-15T00:03:26.546508Z",
     "start_time": "2024-05-15T00:03:26.545507Z"
    }
   },
   "cell_type": "code",
   "source": [
    "import cv2\n",
    "from tqdm import tqdm\n",
    "\n",
    "\n",
    "tracker = Tracker(\n",
    "    feature_extractor=extractor\n",
    ")\n",
    "\n",
    "progress_bar = tqdm(total=len(data))\n",
    "\n",
    "fourcc = cv2.VideoWriter_fourcc(*\"mp4v\")  \n",
    "out = cv2.VideoWriter(\"test_video.mp4\", fourcc, 30, (640, 480))\n",
    "\n",
    "for key, value in data.items():\n",
    "    frame = get_objects(value)[\"webots\"].camera.frame\n",
    "    \n",
    "    detections = detections_by_frame.get(key, [])\n",
    "    \n",
    "    tracker.update(frame, detections)\n",
    "    \n",
    "    for track in tracker.tracks:\n",
    "        x1, y1, x2, y2 = track.to_tlbr()\n",
    "        track_id = track.track_id\n",
    "        class_id = track.class_id\n",
    "        \n",
    "        color = colors[track_id % len(colors)]\n",
    "    \n",
    "        cv2.rectangle(\n",
    "            frame,\n",
    "            (int(x1), int(y1)),\n",
    "            (int(x2), int(y2)),\n",
    "            color,\n",
    "            3\n",
    "        )\n",
    "    \n",
    "        cx = int((x1 + x2) / 2)\n",
    "        cy = int((y1 + y2) / 2)\n",
    "    \n",
    "        cv2.circle(\n",
    "            frame,\n",
    "            (cx, cy),\n",
    "            3,\n",
    "            color,\n",
    "            -1\n",
    "        )\n",
    "    \n",
    "        cv2.putText(\n",
    "            frame,\n",
    "            f\"ID: {track_id}\",\n",
    "            (cx + 10, cy),\n",
    "            cv2.FONT_HERSHEY_SIMPLEX,\n",
    "            0.5,\n",
    "            (0, 0, 255),\n",
    "            2\n",
    "        )\n",
    "    \n",
    "    out.write(frame)\n",
    "    \n",
    "    progress_bar.update(1)\n",
    "    \n",
    "out.release()"
   ],
   "id": "1a8b2eee0733beee",
   "outputs": [],
   "execution_count": null
  },
  {
   "metadata": {
    "ExecuteTime": {
     "end_time": "2024-05-17T16:47:40.487067Z",
     "start_time": "2024-05-17T16:47:38.171659Z"
    }
   },
   "cell_type": "code",
   "source": [
    "import cv2\n",
    "\n",
    "\n",
    "colors = [(\n",
    "    random.randint(0, 255),\n",
    "    random.randint(0, 255),\n",
    "    random.randint(0, 255)) for j in range(10)\n",
    "]\n",
    "\n",
    "tracker = Tracker(\n",
    "    feature_extractor=extractor\n",
    ")\n",
    "\n",
    "frame_key = \"536\"\n",
    "\n",
    "for _ in range(10):\n",
    "    frame = get_objects(data[frame_key])[\"webots\"].camera.frame\n",
    "    detections = detections_by_frame.get(frame_key, [])\n",
    "    \n",
    "    tracker.update(frame, detections)\n",
    "    \n",
    "    for track in tracker.tracks:\n",
    "        x1, y1, x2, y2 = map(int, track.to_tlbr())\n",
    "        \n",
    "        color = colors[track.track_id % len(colors)]\n",
    "    \n",
    "        cv2.rectangle(frame, (x1, y1), (x2, y2), color, 3)\n",
    "    \n",
    "        cx = (x1 + x2) // 2\n",
    "        cy = (y1 + y2) // 2\n",
    "    \n",
    "        cv2.circle(frame, (cx, cy), 3, color, -1)\n",
    "    \n",
    "        cv2.putText(\n",
    "            frame,\n",
    "            f\"ID: {track.track_id}\",\n",
    "            (cx + 10, cy),\n",
    "            cv2.FONT_HERSHEY_SIMPLEX,\n",
    "            0.5,\n",
    "            (0, 0, 255),\n",
    "            2\n",
    "        )\n",
    "        \n",
    "        cv2.putText(\n",
    "            frame,\n",
    "            f\"Class: {model.names[track.class_id]}\",\n",
    "            (cx + 10, cy + 15),\n",
    "            cv2.FONT_HERSHEY_SIMPLEX,\n",
    "            0.5,\n",
    "            (0, 0, 255),\n",
    "            2\n",
    "        )\n",
    "        \n",
    "plt.imshow(frame)\n",
    "# cv2.imwrite(\"deep_sort_tracks.png\", frame)"
   ],
   "id": "6ca4b9d031abe74b",
   "outputs": [
    {
     "data": {
      "text/plain": [
       "<matplotlib.image.AxesImage at 0x23515f94c50>"
      ]
     },
     "execution_count": 6,
     "metadata": {},
     "output_type": "execute_result"
    }
   ],
   "execution_count": 6
  },
  {
   "metadata": {
    "ExecuteTime": {
     "end_time": "2024-05-17T16:47:41.044802Z",
     "start_time": "2024-05-17T16:47:40.487067Z"
    }
   },
   "cell_type": "code",
   "source": [
    "for i in range(450, 550):\n",
    "    frame_key = str(i)\n",
    "    \n",
    "    frame = get_objects(data[frame_key])[\"webots\"].camera.frame\n",
    "    detections = detections_by_frame.get(frame_key, [])\n",
    "        \n",
    "    if len(detections) == 3:                    \n",
    "        class_list = [class_id[-1] for class_id in detections]\n",
    "        # print(class_list)\n",
    "        target = [0, 0, 3]\n",
    "\n",
    "        if sorted(class_list) == sorted(target):\n",
    "            print(\"Frame:\", frame_key)"
   ],
   "id": "8c425c5cc98f1db5",
   "outputs": [
    {
     "name": "stdout",
     "output_type": "stream",
     "text": [
      "Frame: 536\n",
      "Frame: 544\n",
      "Frame: 547\n",
      "Frame: 548\n",
      "Frame: 549\n"
     ]
    }
   ],
   "execution_count": 7
  },
  {
   "metadata": {
    "ExecuteTime": {
     "end_time": "2024-05-17T16:47:41.057805Z",
     "start_time": "2024-05-17T16:47:41.044802Z"
    }
   },
   "cell_type": "code",
   "source": "print(model.names)",
   "id": "66fb9ee5f3b0a633",
   "outputs": [
    {
     "name": "stdout",
     "output_type": "stream",
     "text": [
      "{0: 'pedestrian', 1: 'people', 2: 'bicycle', 3: 'car', 4: 'van', 5: 'truck', 6: 'tricycle', 7: 'awning-tricycle', 8: 'bus', 9: 'motor'}\n"
     ]
    }
   ],
   "execution_count": 8
  },
  {
   "metadata": {
    "ExecuteTime": {
     "end_time": "2024-05-17T16:47:41.083995Z",
     "start_time": "2024-05-17T16:47:41.057805Z"
    }
   },
   "cell_type": "code",
   "source": [
    "tracks = []\n",
    "\n",
    "for track in tracker.tracks:   \n",
    "    tracks.append([*track.to_tlbr()] + [track.track_id] + [track.class_id])\n",
    "    \n",
    "print(tracks)"
   ],
   "id": "10fb9916338fd1b1",
   "outputs": [
    {
     "name": "stdout",
     "output_type": "stream",
     "text": [
      "[[253.0, 295.0, 314.0, 336.0, 1, 3], [355.0, 268.0, 368.0, 295.0, 2, 0], [469.0, 360.0, 491.0, 394.0, 3, 0]]\n"
     ]
    }
   ],
   "execution_count": 9
  },
  {
   "metadata": {
    "ExecuteTime": {
     "end_time": "2024-05-17T16:47:42.231018Z",
     "start_time": "2024-05-17T16:47:41.083995Z"
    }
   },
   "cell_type": "code",
   "source": [
    "import math\n",
    "import numpy\n",
    "\n",
    "\n",
    "import rasterio\n",
    "from rasterio.enums import Resampling\n",
    "from rasterio.warp import transform\n",
    "\n",
    "\n",
    "class GEOSpatial:\n",
    "    def __init__(self, file_path):\n",
    "        self.file_path = file_path\n",
    "        self.src = rasterio.open(self.file_path)\n",
    "        self.resolution = self._estimate_resolution()\n",
    "        \n",
    "        self.elevation_cache = {}\n",
    "    \n",
    "    def _estimate_resolution(self):\n",
    "        latitude_resolution = (self.src.bounds.top - self.src.bounds.bottom) / self.src.height\n",
    "        longitude_resolution = (self.src.bounds.right - self.src.bounds.left) / self.src.width    \n",
    "        \n",
    "        return max(latitude_resolution, longitude_resolution)\n",
    "    \n",
    "    def round_location(self, latitude, longitude):\n",
    "        decimal_places = -int(math.floor(math.log10(self.resolution)))\n",
    "\n",
    "        latitude_round = round(round(latitude / self.resolution) * self.resolution, decimal_places)\n",
    "        longitude_round = round(round(longitude / self.resolution) * self.resolution, decimal_places)\n",
    "        \n",
    "        return latitude_round, longitude_round        \n",
    "    \n",
    "    def find_elevation(self, latitude, longitude):\n",
    "        latitude_key, longitude_key = self.round_location(latitude, longitude)\n",
    "        \n",
    "        if (latitude_key, longitude_key) in self.elevation_cache:\n",
    "            return self.elevation_cache[(latitude_key, longitude_key)]\n",
    "        \n",
    "        transformed_point = transform(\n",
    "            {\"init\": \"epsg:4326\"}, \n",
    "            self.src.crs,  \n",
    "            [longitude], [latitude]\n",
    "        )\n",
    "        \n",
    "        row, col = self.src.index(transformed_point[0][0], transformed_point[1][0])\n",
    "        \n",
    "        elevation = self.src.read(\n",
    "            1, \n",
    "            window=rasterio.windows.Window(col, row, 1, 1), \n",
    "            resampling=Resampling.nearest\n",
    "        )\n",
    "        \n",
    "        elevation_value = elevation[0][0]\n",
    "        \n",
    "        self.elevation_cache[(latitude_key, longitude_key)] = elevation_value\n",
    "        \n",
    "        return elevation_value    \n",
    "\n",
    "\n",
    "file_path = \"S36E149.hgt\"\n",
    "geospatial = GEOSpatial(file_path)"
   ],
   "id": "d6c8068e1c3d3ba0",
   "outputs": [],
   "execution_count": 10
  },
  {
   "metadata": {
    "ExecuteTime": {
     "end_time": "2024-05-17T16:47:42.244581Z",
     "start_time": "2024-05-17T16:47:42.231018Z"
    }
   },
   "cell_type": "code",
   "source": [
    "drone_data = get_objects(data[frame_key])\n",
    "\n",
    "print(drone_data[\"gimbal\"].quaternion.to_euler())\n",
    "print(drone_data[\"attitude\"])\n",
    "print(drone_data[\"global_position\"])"
   ],
   "id": "38f0f5096b58a922",
   "outputs": [
    {
     "name": "stdout",
     "output_type": "stream",
     "text": [
      "(0.0, -0.2617994102232619, 0.0)\n",
      "Attitude(timestamp=1715521895.3897803, roll=0.00010303462477168068, pitch=-8.789138519205153e-05, yaw=-0.49681010842323303, roll_speed=0.0032663103193044662, pitch_speed=0.0037035562563687563, yaw_speed=0.0036637724842876196)\n",
      "GlobalPosition(timestamp=1715521895.4009523, latitude=-35.3634496, longitude=149.1653888, altitude=601.0, relative_altitude=16.93, vx=0.0, vy=0.0, vz=0.0, heading=331.54)\n"
     ]
    }
   ],
   "execution_count": 11
  },
  {
   "metadata": {
    "ExecuteTime": {
     "end_time": "2024-05-17T16:47:42.267859Z",
     "start_time": "2024-05-17T16:47:42.244581Z"
    }
   },
   "cell_type": "code",
   "source": [
    "gimbal_roll, gimbal_pitch, gimbal_yaw = drone_data[\"gimbal\"].quaternion.to_euler()\n",
    "drone_roll = math.radians(drone_data[\"attitude\"].roll)\n",
    "drone_pitch = math.radians(drone_data[\"attitude\"].pitch) \n",
    "drone_heading = math.radians(drone_data[\"global_position\"].heading)\n",
    "\n",
    "view_roll = gimbal_roll + drone_roll\n",
    "view_pitch = gimbal_pitch + drone_pitch\n",
    "view_yaw = gimbal_yaw + drone_heading\n",
    "\n",
    "drone_position = drone_data[\"global_position\"]\n",
    "\n",
    "print(drone_position)\n",
    "print([math.degrees(ang) for ang in [view_roll, view_pitch, view_yaw]])"
   ],
   "id": "e0cb4c966309ecef",
   "outputs": [
    {
     "name": "stdout",
     "output_type": "stream",
     "text": [
      "GlobalPosition(timestamp=1715521895.4009523, latitude=-35.3634496, longitude=149.1653888, altitude=601.0, relative_altitude=16.93, vx=0.0, vy=0.0, vz=0.0, heading=331.54)\n",
      "[0.00010303462477168068, -15.000089176192196, 331.54]\n"
     ]
    }
   ],
   "execution_count": 12
  },
  {
   "metadata": {
    "ExecuteTime": {
     "end_time": "2024-05-17T16:47:42.291425Z",
     "start_time": "2024-05-17T16:47:42.267859Z"
    }
   },
   "cell_type": "code",
   "source": [
    "camera_data = drone_data[\"webots\"].camera\n",
    "\n",
    "image_width = camera_data.width\n",
    "image_height = camera_data.height\n",
    "\n",
    "fov_horizontal = camera_data.fov\n",
    "fov_vertical = 2 * math.atan(math.tan(fov_horizontal / 2) * (image_height / image_width))\n"
   ],
   "id": "5682923dd03d939a",
   "outputs": [],
   "execution_count": 13
  },
  {
   "metadata": {
    "ExecuteTime": {
     "end_time": "2024-05-17T16:47:42.334252Z",
     "start_time": "2024-05-17T16:47:42.291425Z"
    }
   },
   "cell_type": "code",
   "source": [
    "def detection_angles(target_location, image_size, fov_horizontal, fov_vertical):\n",
    "    x, y = target_location\n",
    "    width, height = image_size\n",
    "    theta_x = (x - width / 2) * fov_horizontal / width\n",
    "    theta_y = -(y - height / 2) * fov_vertical / height\n",
    "    \n",
    "    return theta_x, theta_y\n",
    "\n",
    "def find_center(x1, y1, x2, y2):\n",
    "    center_x = (x1 + x2) // 2\n",
    "    center_y = (y1 + y2) // 2\n",
    "    \n",
    "    return center_x, center_y\n",
    "\n",
    "def calculate_direction_vector(view_angles, detection_offset):\n",
    "    view_roll, view_pitch, view_yaw = view_angles\n",
    "    theta_x, theta_y = detection_offset\n",
    "    \n",
    "    final_roll = view_roll\n",
    "    final_pitch = view_pitch + theta_y\n",
    "    final_yaw = view_yaw + theta_x\n",
    "        \n",
    "    direction_vector = numpy.array([\n",
    "        math.cos(final_pitch) * math.sin(final_yaw),\n",
    "        math.cos(final_pitch) * math.cos(final_yaw),\n",
    "        math.sin(final_pitch)\n",
    "    ])\n",
    "    \n",
    "    cos_roll = math.cos(final_roll)\n",
    "    sin_roll = math.sin(final_roll)\n",
    "    rotation_matrix = numpy.array([\n",
    "        [1, 0, 0],\n",
    "        [0, cos_roll, -sin_roll],\n",
    "        [0, sin_roll, cos_roll]\n",
    "    ])\n",
    "    direction_vector = numpy.dot(rotation_matrix, direction_vector)\n",
    "    \n",
    "    return direction_vector\n",
    "    \n",
    "    \n",
    "def find_target_location(drone_position, direction_vector):\n",
    "    step_size = 1\n",
    "    max_distance = 1000\n",
    "    \n",
    "    lat_step = step_size / 111320\n",
    "    lon_step = step_size / (111320 * math.cos(math.radians(drone_position.latitude)))\n",
    "\n",
    "    for i in range(1, int(max_distance / step_size)):\n",
    "        d_lat = direction_vector[1] * lat_step * i\n",
    "        d_lon = direction_vector[0] * lon_step * i\n",
    "        d_alt = direction_vector[2] * step_size * i\n",
    "        \n",
    "        new_lat = drone_position.latitude + d_lat\n",
    "        new_lon = drone_position.longitude + d_lon\n",
    "        new_alt = drone_position.altitude + d_alt\n",
    "        \n",
    "        terrain_height = geospatial.find_elevation(new_lat, new_lon)\n",
    "                \n",
    "        if new_alt <= terrain_height:\n",
    "            return new_lat, new_lon, terrain_height\n",
    "        \n",
    "    return None\n",
    "\n",
    "def distance_between_locations(lat1, lon1, alt1, lat2, lon2, alt2):\n",
    "    phi1, phi2 = math.radians(lat1), math.radians(lat2)\n",
    "    lambda1, lambda2 = math.radians(lon1), math.radians(lon2)\n",
    "    \n",
    "    delta_phi = phi2 - phi1\n",
    "    delta_lambda = lambda2 - lambda1\n",
    "    delta_alt = alt2 - alt1\n",
    "    \n",
    "    a = math.sin(delta_phi / 2.0) ** 2 + math.cos(phi1) * math.cos(phi2) * math.sin(delta_lambda / 2.0) ** 2\n",
    "    c = 2 * math.atan2(math.sqrt(a), math.sqrt(1 - a))\n",
    "    earth_radius = 6371000\n",
    "    distance = earth_radius * c\n",
    "    \n",
    "    total_distance = math.sqrt(distance ** 2 + delta_alt ** 2)\n",
    "    \n",
    "    return total_distance\n"
   ],
   "id": "e505b2d0c887f096",
   "outputs": [],
   "execution_count": 14
  },
  {
   "metadata": {
    "ExecuteTime": {
     "end_time": "2024-05-17T16:47:42.374376Z",
     "start_time": "2024-05-17T16:47:42.337004Z"
    }
   },
   "cell_type": "code",
   "source": [
    "target_locations = []\n",
    "\n",
    "for track in tracks:\n",
    "    x1, y1, x2, y2, target_id, class_id = track\n",
    "\n",
    "    detection_offset = detection_angles(find_center(x1, y1, x2, y2), (image_width, image_height), fov_horizontal, fov_vertical)\n",
    "    \n",
    "    direction_vector = calculate_direction_vector((view_roll, view_pitch, view_yaw), detection_offset)\n",
    "    \n",
    "    target_location = find_target_location(drone_position, direction_vector)\n",
    "    \n",
    "    target_locations.append([target_id, *target_location])\n",
    "    \n",
    "    print(f\"ID: {target_id} Location: {target_location} Distance: {distance_between_locations(*target_location, drone_position.latitude, drone_position.longitude, drone_position.altitude)} Offset: {detection_offset}\")\n"
   ],
   "id": "b81e6bf184f21a84",
   "outputs": [
    {
     "name": "stdout",
     "output_type": "stream",
     "text": [
      "ID: 1 Location: (-35.36311058931176, 149.16513842087963, 585) Distance: 46.82403177075111 Offset: (-0.0453828125, -0.09407760054869048)\n",
      "ID: 2 Location: (-35.36301792614018, 149.16513542625285, 585) Distance: 55.56870403414934 Offset: (0.0502890625, -0.05142908829995079)\n",
      "ID: 3 Location: (-35.36313035708873, 149.16526750222613, 584) Distance: 40.866906588600315 Offset: (0.19625, -0.17184841700227463)\n"
     ]
    }
   ],
   "execution_count": 15
  },
  {
   "metadata": {
    "ExecuteTime": {
     "end_time": "2024-05-17T17:46:31.306976Z",
     "start_time": "2024-05-17T17:46:31.217391Z"
    }
   },
   "cell_type": "code",
   "source": [
    "import matplotlib.pyplot as plt\n",
    "\n",
    "\n",
    "latitudes = [location[1] for location in target_locations] + [drone_position.latitude]\n",
    "longitudes = [location[2] for location in target_locations] + [drone_position.longitude]\n",
    "\n",
    "latitude_grid, longitude_grid = numpy.meshgrid(\n",
    "    numpy.linspace(min(latitudes) - 0.0001, max(latitudes) + 0.0001, 3),\n",
    "    numpy.linspace(min(longitudes) - 0.0001, max(longitudes) + 0.0001, 3)\n",
    ")\n",
    "elevation_grid = numpy.vectorize(geospatial.find_elevation)(latitude_grid, longitude_grid)\n",
    "\n",
    "fig = plt.figure(figsize=(12, 8))\n",
    "ax = fig.add_subplot(111, projection=\"3d\")\n",
    "\n",
    "ax.plot_surface(\n",
    "    longitude_grid,\n",
    "    latitude_grid,     \n",
    "    elevation_grid, \n",
    "    # cmap=\"terrain\", \n",
    "    color=\"green\", \n",
    "    alpha=0.5\n",
    ")\n",
    "\n",
    "ax.scatter(\n",
    "    drone_position.longitude,\n",
    "    drone_position.latitude, \n",
    "    drone_position.altitude, \n",
    "    color=\"blue\", \n",
    "    s=100, \n",
    "    label=\"Дрон\", \n",
    "    marker=\"o\"\n",
    ")\n",
    "\n",
    "for target_location in target_locations:\n",
    "    target_id, target_latitude, target_longitude, target_altitude = target_location\n",
    "    color = [channel / 255 for channel in colors[target_id % len(colors)]]\n",
    "    \n",
    "    ax.scatter(\n",
    "        target_longitude,\n",
    "        target_latitude,          \n",
    "        target_altitude, \n",
    "        color=color, \n",
    "        s=100, \n",
    "        label=f\"Об'єкт №{target_id}\", \n",
    "        marker=\"x\"\n",
    "    )\n",
    "\n",
    "    ax.plot(\n",
    "        [drone_position.longitude, target_longitude],\n",
    "        [drone_position.latitude, target_latitude],         \n",
    "        [drone_position.altitude, target_altitude], \n",
    "        color=color, linestyle=\"-\"\n",
    "    )\n",
    "\n",
    "ax.set_xlabel(\"Широта\")\n",
    "ax.set_ylabel(\"Довгота\")\n",
    "ax.set_zlabel(\"Висота\")\n",
    "ax.set_title(\"Візуалізація розташування дрону та об'єктів з рельєфом місцевості\")\n",
    "ax.legend()\n",
    "\n",
    "plt.show()"
   ],
   "id": "81ec78a14c81280d",
   "outputs": [],
   "execution_count": 23
  },
  {
   "metadata": {
    "ExecuteTime": {
     "end_time": "2024-05-17T16:47:42.888639Z",
     "start_time": "2024-05-17T16:47:42.515953Z"
    }
   },
   "cell_type": "code",
   "source": [
    "import folium\n",
    "\n",
    "drone_location = [drone_position.latitude, drone_position.longitude]\n",
    "folium_map = folium.Map(location=drone_location, zoom_start=18)\n",
    "folium.Marker(\n",
    "    location=drone_location,\n",
    "    popup=\"Drone Location\"\n",
    ").add_to(folium_map)\n",
    "\n",
    "for target_location in target_locations:\n",
    "    target_id, target_latitude, target_longitude, target_altitude = target_location\n",
    "    color = colors[target_id % len(colors)]\n",
    "    \n",
    "    folium.Marker(\n",
    "        [target_latitude, target_longitude],\n",
    "        popup=f\"Target {target_id} Location\",\n",
    "        icon=folium.Icon(color=\"red\", icon=\"info-sign\")\n",
    "    ).add_to(folium_map)\n",
    "    \n",
    "    folium.PolyLine(\n",
    "        locations=[\n",
    "            [drone_position.latitude, drone_position.longitude],\n",
    "            [target_latitude, target_longitude]\n",
    "        ],\n",
    "        weight=4,\n",
    "        opacity=1\n",
    "    ).add_to(folium_map)\n",
    "\n",
    "\n",
    "folium_map"
   ],
   "id": "2f8409bc69606930",
   "outputs": [
    {
     "data": {
      "text/plain": [
       "<folium.folium.Map at 0x23516484890>"
      ],
      "text/html": [
       "<div style=\"width:100%;\"><div style=\"position:relative;width:100%;height:0;padding-bottom:60%;\"><span style=\"color:#565656\">Make this Notebook Trusted to load map: File -> Trust Notebook</span><iframe srcdoc=\"&lt;!DOCTYPE html&gt;\n",
       "&lt;html&gt;\n",
       "&lt;head&gt;\n",
       "    \n",
       "    &lt;meta http-equiv=&quot;content-type&quot; content=&quot;text/html; charset=UTF-8&quot; /&gt;\n",
       "    \n",
       "        &lt;script&gt;\n",
       "            L_NO_TOUCH = false;\n",
       "            L_DISABLE_3D = false;\n",
       "        &lt;/script&gt;\n",
       "    \n",
       "    &lt;style&gt;html, body {width: 100%;height: 100%;margin: 0;padding: 0;}&lt;/style&gt;\n",
       "    &lt;style&gt;#map {position:absolute;top:0;bottom:0;right:0;left:0;}&lt;/style&gt;\n",
       "    &lt;script src=&quot;https://cdn.jsdelivr.net/npm/leaflet@1.9.3/dist/leaflet.js&quot;&gt;&lt;/script&gt;\n",
       "    &lt;script src=&quot;https://code.jquery.com/jquery-3.7.1.min.js&quot;&gt;&lt;/script&gt;\n",
       "    &lt;script src=&quot;https://cdn.jsdelivr.net/npm/bootstrap@5.2.2/dist/js/bootstrap.bundle.min.js&quot;&gt;&lt;/script&gt;\n",
       "    &lt;script src=&quot;https://cdnjs.cloudflare.com/ajax/libs/Leaflet.awesome-markers/2.0.2/leaflet.awesome-markers.js&quot;&gt;&lt;/script&gt;\n",
       "    &lt;link rel=&quot;stylesheet&quot; href=&quot;https://cdn.jsdelivr.net/npm/leaflet@1.9.3/dist/leaflet.css&quot;/&gt;\n",
       "    &lt;link rel=&quot;stylesheet&quot; href=&quot;https://cdn.jsdelivr.net/npm/bootstrap@5.2.2/dist/css/bootstrap.min.css&quot;/&gt;\n",
       "    &lt;link rel=&quot;stylesheet&quot; href=&quot;https://netdna.bootstrapcdn.com/bootstrap/3.0.0/css/bootstrap.min.css&quot;/&gt;\n",
       "    &lt;link rel=&quot;stylesheet&quot; href=&quot;https://cdn.jsdelivr.net/npm/@fortawesome/fontawesome-free@6.2.0/css/all.min.css&quot;/&gt;\n",
       "    &lt;link rel=&quot;stylesheet&quot; href=&quot;https://cdnjs.cloudflare.com/ajax/libs/Leaflet.awesome-markers/2.0.2/leaflet.awesome-markers.css&quot;/&gt;\n",
       "    &lt;link rel=&quot;stylesheet&quot; href=&quot;https://cdn.jsdelivr.net/gh/python-visualization/folium/folium/templates/leaflet.awesome.rotate.min.css&quot;/&gt;\n",
       "    \n",
       "            &lt;meta name=&quot;viewport&quot; content=&quot;width=device-width,\n",
       "                initial-scale=1.0, maximum-scale=1.0, user-scalable=no&quot; /&gt;\n",
       "            &lt;style&gt;\n",
       "                #map_b3c6b85114c7e8a8a16f032f6cee173a {\n",
       "                    position: relative;\n",
       "                    width: 100.0%;\n",
       "                    height: 100.0%;\n",
       "                    left: 0.0%;\n",
       "                    top: 0.0%;\n",
       "                }\n",
       "                .leaflet-container { font-size: 1rem; }\n",
       "            &lt;/style&gt;\n",
       "        \n",
       "&lt;/head&gt;\n",
       "&lt;body&gt;\n",
       "    \n",
       "    \n",
       "            &lt;div class=&quot;folium-map&quot; id=&quot;map_b3c6b85114c7e8a8a16f032f6cee173a&quot; &gt;&lt;/div&gt;\n",
       "        \n",
       "&lt;/body&gt;\n",
       "&lt;script&gt;\n",
       "    \n",
       "    \n",
       "            var map_b3c6b85114c7e8a8a16f032f6cee173a = L.map(\n",
       "                &quot;map_b3c6b85114c7e8a8a16f032f6cee173a&quot;,\n",
       "                {\n",
       "                    center: [-35.3634496, 149.1653888],\n",
       "                    crs: L.CRS.EPSG3857,\n",
       "                    zoom: 18,\n",
       "                    zoomControl: true,\n",
       "                    preferCanvas: false,\n",
       "                }\n",
       "            );\n",
       "\n",
       "            \n",
       "\n",
       "        \n",
       "    \n",
       "            var tile_layer_feea0bda4167445847a28dda3a72aa28 = L.tileLayer(\n",
       "                &quot;https://tile.openstreetmap.org/{z}/{x}/{y}.png&quot;,\n",
       "                {&quot;attribution&quot;: &quot;\\u0026copy; \\u003ca href=\\&quot;https://www.openstreetmap.org/copyright\\&quot;\\u003eOpenStreetMap\\u003c/a\\u003e contributors&quot;, &quot;detectRetina&quot;: false, &quot;maxNativeZoom&quot;: 19, &quot;maxZoom&quot;: 19, &quot;minZoom&quot;: 0, &quot;noWrap&quot;: false, &quot;opacity&quot;: 1, &quot;subdomains&quot;: &quot;abc&quot;, &quot;tms&quot;: false}\n",
       "            );\n",
       "        \n",
       "    \n",
       "            tile_layer_feea0bda4167445847a28dda3a72aa28.addTo(map_b3c6b85114c7e8a8a16f032f6cee173a);\n",
       "        \n",
       "    \n",
       "            var marker_3377f8528500f28475cc28c9159ba83f = L.marker(\n",
       "                [-35.3634496, 149.1653888],\n",
       "                {}\n",
       "            ).addTo(map_b3c6b85114c7e8a8a16f032f6cee173a);\n",
       "        \n",
       "    \n",
       "        var popup_b7ca39c4cc2d03abd46b2d9273d21094 = L.popup({&quot;maxWidth&quot;: &quot;100%&quot;});\n",
       "\n",
       "        \n",
       "            \n",
       "                var html_74d011b8c33daeeaa68d5428ac09a851 = $(`&lt;div id=&quot;html_74d011b8c33daeeaa68d5428ac09a851&quot; style=&quot;width: 100.0%; height: 100.0%;&quot;&gt;Drone Location&lt;/div&gt;`)[0];\n",
       "                popup_b7ca39c4cc2d03abd46b2d9273d21094.setContent(html_74d011b8c33daeeaa68d5428ac09a851);\n",
       "            \n",
       "        \n",
       "\n",
       "        marker_3377f8528500f28475cc28c9159ba83f.bindPopup(popup_b7ca39c4cc2d03abd46b2d9273d21094)\n",
       "        ;\n",
       "\n",
       "        \n",
       "    \n",
       "    \n",
       "            var marker_5c7f2dd80b7d214d3b991b5313852056 = L.marker(\n",
       "                [-35.36311058931176, 149.16513842087963],\n",
       "                {}\n",
       "            ).addTo(map_b3c6b85114c7e8a8a16f032f6cee173a);\n",
       "        \n",
       "    \n",
       "            var icon_a12302c56cdbf327624f316f68da8486 = L.AwesomeMarkers.icon(\n",
       "                {&quot;extraClasses&quot;: &quot;fa-rotate-0&quot;, &quot;icon&quot;: &quot;info-sign&quot;, &quot;iconColor&quot;: &quot;white&quot;, &quot;markerColor&quot;: &quot;red&quot;, &quot;prefix&quot;: &quot;glyphicon&quot;}\n",
       "            );\n",
       "            marker_5c7f2dd80b7d214d3b991b5313852056.setIcon(icon_a12302c56cdbf327624f316f68da8486);\n",
       "        \n",
       "    \n",
       "        var popup_9e86072a0a71b8cdcd69063d64447cca = L.popup({&quot;maxWidth&quot;: &quot;100%&quot;});\n",
       "\n",
       "        \n",
       "            \n",
       "                var html_91a9c8df2da0d064148cef1fecb4bef4 = $(`&lt;div id=&quot;html_91a9c8df2da0d064148cef1fecb4bef4&quot; style=&quot;width: 100.0%; height: 100.0%;&quot;&gt;Target 1 Location&lt;/div&gt;`)[0];\n",
       "                popup_9e86072a0a71b8cdcd69063d64447cca.setContent(html_91a9c8df2da0d064148cef1fecb4bef4);\n",
       "            \n",
       "        \n",
       "\n",
       "        marker_5c7f2dd80b7d214d3b991b5313852056.bindPopup(popup_9e86072a0a71b8cdcd69063d64447cca)\n",
       "        ;\n",
       "\n",
       "        \n",
       "    \n",
       "    \n",
       "            var poly_line_7c6d85a85fbfa0ceb526db2773b8bb56 = L.polyline(\n",
       "                [[-35.3634496, 149.1653888], [-35.36311058931176, 149.16513842087963]],\n",
       "                {&quot;bubblingMouseEvents&quot;: true, &quot;color&quot;: &quot;#3388ff&quot;, &quot;dashArray&quot;: null, &quot;dashOffset&quot;: null, &quot;fill&quot;: false, &quot;fillColor&quot;: &quot;#3388ff&quot;, &quot;fillOpacity&quot;: 0.2, &quot;fillRule&quot;: &quot;evenodd&quot;, &quot;lineCap&quot;: &quot;round&quot;, &quot;lineJoin&quot;: &quot;round&quot;, &quot;noClip&quot;: false, &quot;opacity&quot;: 1, &quot;smoothFactor&quot;: 1.0, &quot;stroke&quot;: true, &quot;weight&quot;: 4}\n",
       "            ).addTo(map_b3c6b85114c7e8a8a16f032f6cee173a);\n",
       "        \n",
       "    \n",
       "            var marker_da553de602da9115431a04bfe3380f80 = L.marker(\n",
       "                [-35.36301792614018, 149.16513542625285],\n",
       "                {}\n",
       "            ).addTo(map_b3c6b85114c7e8a8a16f032f6cee173a);\n",
       "        \n",
       "    \n",
       "            var icon_524c5c0f4da04b85df9b3f95e1bfffc1 = L.AwesomeMarkers.icon(\n",
       "                {&quot;extraClasses&quot;: &quot;fa-rotate-0&quot;, &quot;icon&quot;: &quot;info-sign&quot;, &quot;iconColor&quot;: &quot;white&quot;, &quot;markerColor&quot;: &quot;red&quot;, &quot;prefix&quot;: &quot;glyphicon&quot;}\n",
       "            );\n",
       "            marker_da553de602da9115431a04bfe3380f80.setIcon(icon_524c5c0f4da04b85df9b3f95e1bfffc1);\n",
       "        \n",
       "    \n",
       "        var popup_f254eb42e7f2b99aae63b288000c1bac = L.popup({&quot;maxWidth&quot;: &quot;100%&quot;});\n",
       "\n",
       "        \n",
       "            \n",
       "                var html_32d65dd1b72be6d8ecb2ada47a6ea7f2 = $(`&lt;div id=&quot;html_32d65dd1b72be6d8ecb2ada47a6ea7f2&quot; style=&quot;width: 100.0%; height: 100.0%;&quot;&gt;Target 2 Location&lt;/div&gt;`)[0];\n",
       "                popup_f254eb42e7f2b99aae63b288000c1bac.setContent(html_32d65dd1b72be6d8ecb2ada47a6ea7f2);\n",
       "            \n",
       "        \n",
       "\n",
       "        marker_da553de602da9115431a04bfe3380f80.bindPopup(popup_f254eb42e7f2b99aae63b288000c1bac)\n",
       "        ;\n",
       "\n",
       "        \n",
       "    \n",
       "    \n",
       "            var poly_line_bb030c5bb581d4a0bf5acec1b562bc74 = L.polyline(\n",
       "                [[-35.3634496, 149.1653888], [-35.36301792614018, 149.16513542625285]],\n",
       "                {&quot;bubblingMouseEvents&quot;: true, &quot;color&quot;: &quot;#3388ff&quot;, &quot;dashArray&quot;: null, &quot;dashOffset&quot;: null, &quot;fill&quot;: false, &quot;fillColor&quot;: &quot;#3388ff&quot;, &quot;fillOpacity&quot;: 0.2, &quot;fillRule&quot;: &quot;evenodd&quot;, &quot;lineCap&quot;: &quot;round&quot;, &quot;lineJoin&quot;: &quot;round&quot;, &quot;noClip&quot;: false, &quot;opacity&quot;: 1, &quot;smoothFactor&quot;: 1.0, &quot;stroke&quot;: true, &quot;weight&quot;: 4}\n",
       "            ).addTo(map_b3c6b85114c7e8a8a16f032f6cee173a);\n",
       "        \n",
       "    \n",
       "            var marker_b749c07cd7dd58b28c7600560469c199 = L.marker(\n",
       "                [-35.36313035708873, 149.16526750222613],\n",
       "                {}\n",
       "            ).addTo(map_b3c6b85114c7e8a8a16f032f6cee173a);\n",
       "        \n",
       "    \n",
       "            var icon_2b2693b921e6a2d0c3674dd4d082201b = L.AwesomeMarkers.icon(\n",
       "                {&quot;extraClasses&quot;: &quot;fa-rotate-0&quot;, &quot;icon&quot;: &quot;info-sign&quot;, &quot;iconColor&quot;: &quot;white&quot;, &quot;markerColor&quot;: &quot;red&quot;, &quot;prefix&quot;: &quot;glyphicon&quot;}\n",
       "            );\n",
       "            marker_b749c07cd7dd58b28c7600560469c199.setIcon(icon_2b2693b921e6a2d0c3674dd4d082201b);\n",
       "        \n",
       "    \n",
       "        var popup_f1831056548bc38a28846ecd6ff8cbbf = L.popup({&quot;maxWidth&quot;: &quot;100%&quot;});\n",
       "\n",
       "        \n",
       "            \n",
       "                var html_205713ba3d0345a4de0699e90b469fa4 = $(`&lt;div id=&quot;html_205713ba3d0345a4de0699e90b469fa4&quot; style=&quot;width: 100.0%; height: 100.0%;&quot;&gt;Target 3 Location&lt;/div&gt;`)[0];\n",
       "                popup_f1831056548bc38a28846ecd6ff8cbbf.setContent(html_205713ba3d0345a4de0699e90b469fa4);\n",
       "            \n",
       "        \n",
       "\n",
       "        marker_b749c07cd7dd58b28c7600560469c199.bindPopup(popup_f1831056548bc38a28846ecd6ff8cbbf)\n",
       "        ;\n",
       "\n",
       "        \n",
       "    \n",
       "    \n",
       "            var poly_line_a5671fae8ca8a17700e7c94c70a942e9 = L.polyline(\n",
       "                [[-35.3634496, 149.1653888], [-35.36313035708873, 149.16526750222613]],\n",
       "                {&quot;bubblingMouseEvents&quot;: true, &quot;color&quot;: &quot;#3388ff&quot;, &quot;dashArray&quot;: null, &quot;dashOffset&quot;: null, &quot;fill&quot;: false, &quot;fillColor&quot;: &quot;#3388ff&quot;, &quot;fillOpacity&quot;: 0.2, &quot;fillRule&quot;: &quot;evenodd&quot;, &quot;lineCap&quot;: &quot;round&quot;, &quot;lineJoin&quot;: &quot;round&quot;, &quot;noClip&quot;: false, &quot;opacity&quot;: 1, &quot;smoothFactor&quot;: 1.0, &quot;stroke&quot;: true, &quot;weight&quot;: 4}\n",
       "            ).addTo(map_b3c6b85114c7e8a8a16f032f6cee173a);\n",
       "        \n",
       "&lt;/script&gt;\n",
       "&lt;/html&gt;\" style=\"position:absolute;width:100%;height:100%;left:0;top:0;border:none !important;\" allowfullscreen webkitallowfullscreen mozallowfullscreen></iframe></div></div>"
      ]
     },
     "execution_count": 17,
     "metadata": {},
     "output_type": "execute_result"
    }
   ],
   "execution_count": 17
  },
  {
   "metadata": {
    "ExecuteTime": {
     "end_time": "2024-05-17T16:47:42.905703Z",
     "start_time": "2024-05-17T16:47:42.888639Z"
    }
   },
   "cell_type": "code",
   "source": "drone_data[\"webots\"].rangefinder",
   "id": "41d6de3b7577acb4",
   "outputs": [
    {
     "data": {
      "text/plain": [
       "RangefinderData(timestamp=1436.181, width=64, height=64, fps=30.303030303030305, fov=0.01, min_range=1.0, max_range=1000.0, data_type='uint16')"
      ]
     },
     "execution_count": 18,
     "metadata": {},
     "output_type": "execute_result"
    }
   ],
   "execution_count": 18
  },
  {
   "metadata": {},
   "cell_type": "code",
   "outputs": [],
   "execution_count": null,
   "source": "",
   "id": "4ba705911381da8d"
  }
 ],
 "metadata": {
  "kernelspec": {
   "display_name": "Python 3",
   "language": "python",
   "name": "python3"
  },
  "language_info": {
   "codemirror_mode": {
    "name": "ipython",
    "version": 2
   },
   "file_extension": ".py",
   "mimetype": "text/x-python",
   "name": "python",
   "nbconvert_exporter": "python",
   "pygments_lexer": "ipython2",
   "version": "2.7.6"
  }
 },
 "nbformat": 4,
 "nbformat_minor": 5
}
